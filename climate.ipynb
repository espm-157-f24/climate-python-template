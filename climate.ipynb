{
 "cells": [
  {
   "cell_type": "markdown",
   "id": "95a7abd0",
   "metadata": {},
   "source": [
    "# Unit I: Climate Change Module\n",
    "\n",
    "## Opening Tutorial: Examining CO2 trends in python\n",
    "\n",
    "- Example from <http://climate.nasa.gov/vital-signs/carbon-dioxide/>\n",
    "- Raw data from <https://gml.noaa.gov/webdata/ccgg/trends/co2/co2_mm_mlo.txt>"
   ]
  },
  {
   "cell_type": "code",
   "execution_count": 1,
   "id": "ffb87442",
   "metadata": {},
   "outputs": [],
   "source": [
    "import pandas as pd\n",
    "import seaborn as sns"
   ]
  },
  {
   "cell_type": "code",
   "execution_count": 2,
   "id": "fe193020",
   "metadata": {},
   "outputs": [
    {
     "data": {
      "text/html": [
       "<div>\n",
       "<style scoped>\n",
       "    .dataframe tbody tr th:only-of-type {\n",
       "        vertical-align: middle;\n",
       "    }\n",
       "\n",
       "    .dataframe tbody tr th {\n",
       "        vertical-align: top;\n",
       "    }\n",
       "\n",
       "    .dataframe thead th {\n",
       "        text-align: right;\n",
       "    }\n",
       "</style>\n",
       "<table border=\"1\" class=\"dataframe\">\n",
       "  <thead>\n",
       "    <tr style=\"text-align: right;\">\n",
       "      <th></th>\n",
       "      <th>year</th>\n",
       "      <th>month</th>\n",
       "      <th>decimal_date</th>\n",
       "      <th>average</th>\n",
       "      <th>smooth</th>\n",
       "      <th>std_days</th>\n",
       "      <th>uncertainty</th>\n",
       "      <th>empty</th>\n",
       "    </tr>\n",
       "  </thead>\n",
       "  <tbody>\n",
       "    <tr>\n",
       "      <th>0</th>\n",
       "      <td>1958</td>\n",
       "      <td>3</td>\n",
       "      <td>1958.2027</td>\n",
       "      <td>315.71</td>\n",
       "      <td>314.44</td>\n",
       "      <td>-1</td>\n",
       "      <td>-9.99</td>\n",
       "      <td>-0.99</td>\n",
       "    </tr>\n",
       "    <tr>\n",
       "      <th>1</th>\n",
       "      <td>1958</td>\n",
       "      <td>4</td>\n",
       "      <td>1958.2877</td>\n",
       "      <td>317.45</td>\n",
       "      <td>315.16</td>\n",
       "      <td>-1</td>\n",
       "      <td>-9.99</td>\n",
       "      <td>-0.99</td>\n",
       "    </tr>\n",
       "    <tr>\n",
       "      <th>2</th>\n",
       "      <td>1958</td>\n",
       "      <td>5</td>\n",
       "      <td>1958.3699</td>\n",
       "      <td>317.51</td>\n",
       "      <td>314.69</td>\n",
       "      <td>-1</td>\n",
       "      <td>-9.99</td>\n",
       "      <td>-0.99</td>\n",
       "    </tr>\n",
       "    <tr>\n",
       "      <th>3</th>\n",
       "      <td>1958</td>\n",
       "      <td>6</td>\n",
       "      <td>1958.4548</td>\n",
       "      <td>317.27</td>\n",
       "      <td>315.15</td>\n",
       "      <td>-1</td>\n",
       "      <td>-9.99</td>\n",
       "      <td>-0.99</td>\n",
       "    </tr>\n",
       "    <tr>\n",
       "      <th>4</th>\n",
       "      <td>1958</td>\n",
       "      <td>7</td>\n",
       "      <td>1958.5370</td>\n",
       "      <td>315.87</td>\n",
       "      <td>315.20</td>\n",
       "      <td>-1</td>\n",
       "      <td>-9.99</td>\n",
       "      <td>-0.99</td>\n",
       "    </tr>\n",
       "    <tr>\n",
       "      <th>...</th>\n",
       "      <td>...</td>\n",
       "      <td>...</td>\n",
       "      <td>...</td>\n",
       "      <td>...</td>\n",
       "      <td>...</td>\n",
       "      <td>...</td>\n",
       "      <td>...</td>\n",
       "      <td>...</td>\n",
       "    </tr>\n",
       "    <tr>\n",
       "      <th>792</th>\n",
       "      <td>2024</td>\n",
       "      <td>3</td>\n",
       "      <td>2024.2083</td>\n",
       "      <td>425.38</td>\n",
       "      <td>423.92</td>\n",
       "      <td>22</td>\n",
       "      <td>0.99</td>\n",
       "      <td>0.40</td>\n",
       "    </tr>\n",
       "    <tr>\n",
       "      <th>793</th>\n",
       "      <td>2024</td>\n",
       "      <td>4</td>\n",
       "      <td>2024.2917</td>\n",
       "      <td>426.57</td>\n",
       "      <td>424.03</td>\n",
       "      <td>24</td>\n",
       "      <td>0.98</td>\n",
       "      <td>0.38</td>\n",
       "    </tr>\n",
       "    <tr>\n",
       "      <th>794</th>\n",
       "      <td>2024</td>\n",
       "      <td>5</td>\n",
       "      <td>2024.3750</td>\n",
       "      <td>426.90</td>\n",
       "      <td>423.61</td>\n",
       "      <td>29</td>\n",
       "      <td>0.76</td>\n",
       "      <td>0.27</td>\n",
       "    </tr>\n",
       "    <tr>\n",
       "      <th>795</th>\n",
       "      <td>2024</td>\n",
       "      <td>6</td>\n",
       "      <td>2024.4583</td>\n",
       "      <td>426.91</td>\n",
       "      <td>424.44</td>\n",
       "      <td>20</td>\n",
       "      <td>0.65</td>\n",
       "      <td>0.28</td>\n",
       "    </tr>\n",
       "    <tr>\n",
       "      <th>796</th>\n",
       "      <td>2024</td>\n",
       "      <td>7</td>\n",
       "      <td>2024.5417</td>\n",
       "      <td>425.55</td>\n",
       "      <td>425.10</td>\n",
       "      <td>24</td>\n",
       "      <td>0.69</td>\n",
       "      <td>0.27</td>\n",
       "    </tr>\n",
       "  </tbody>\n",
       "</table>\n",
       "<p>797 rows × 8 columns</p>\n",
       "</div>"
      ],
      "text/plain": [
       "     year  month  decimal_date  average  smooth  std_days  uncertainty  empty\n",
       "0    1958      3     1958.2027   315.71  314.44        -1        -9.99  -0.99\n",
       "1    1958      4     1958.2877   317.45  315.16        -1        -9.99  -0.99\n",
       "2    1958      5     1958.3699   317.51  314.69        -1        -9.99  -0.99\n",
       "3    1958      6     1958.4548   317.27  315.15        -1        -9.99  -0.99\n",
       "4    1958      7     1958.5370   315.87  315.20        -1        -9.99  -0.99\n",
       "..    ...    ...           ...      ...     ...       ...          ...    ...\n",
       "792  2024      3     2024.2083   425.38  423.92        22         0.99   0.40\n",
       "793  2024      4     2024.2917   426.57  424.03        24         0.98   0.38\n",
       "794  2024      5     2024.3750   426.90  423.61        29         0.76   0.27\n",
       "795  2024      6     2024.4583   426.91  424.44        20         0.65   0.28\n",
       "796  2024      7     2024.5417   425.55  425.10        24         0.69   0.27\n",
       "\n",
       "[797 rows x 8 columns]"
      ]
     },
     "execution_count": 2,
     "metadata": {},
     "output_type": "execute_result"
    }
   ],
   "source": [
    "columns = ['year', 'month', 'decimal_date', 'average', 'smooth', 'std_days', 'uncertainty', 'empty']\n",
    "df = pd.read_csv(\"https://gml.noaa.gov/webdata/ccgg/trends/co2/co2_mm_mlo.txt\", sep=\"\\s+\", comment=\"#\", names= columns)\n",
    "df"
   ]
  },
  {
   "cell_type": "code",
   "execution_count": 3,
   "id": "6bd88d71-295e-4b56-a4d7-411648566bd2",
   "metadata": {},
   "outputs": [
    {
     "data": {
      "text/plain": [
       "<Axes: xlabel='decimal_date', ylabel='average'>"
      ]
     },
     "execution_count": 3,
     "metadata": {},
     "output_type": "execute_result"
    },
    {
     "data": {
      "image/png": "[encoded data removed]",
      "text/plain": [
       "<Figure size 640x480 with 1 Axes>"
      ]
     },
     "metadata": {},
     "output_type": "display_data"
    }
   ],
   "source": [
    "sns.lineplot(df, x=\"decimal_date\", y=\"average\")"
   ]
  },
  {
   "cell_type": "markdown",
   "id": "e3b4c933-e400-475f-88e6-4a6b19f3b56f",
   "metadata": {},
   "source": [
    "Which months are the CO2 values at the maximum? Minimum?  Why is this?\n",
    "\n",
    "What rolling average is used in computing the \"trend\" line?  How does the trend depend on the rolling average?\n",
    "\n",
    "------------------------"
   ]
  },
  {
   "cell_type": "markdown",
   "id": "988c7c2d-4172-4b21-9f8f-c00e64aeb9b6",
   "metadata": {},
   "source": [
    ":::{tip} Exercise 1\n",
    "\n",
    "# Temperature Data\n",
    "\n",
    "Each of the last years has consecutively set new records on global climate.  In this section we will analyze global mean temperature data.\n",
    "\n",
    "Data from: <http://climate.nasa.gov/vital-signs/global-temperature>\n",
    "\n",
    "## Question 1:\n",
    "\n",
    "Describe the data set to the best of your ability given the documentation provided.  Describe what kind of column each data contains and what units it is measured in.  Then address our three key questions in understanding this data:\n",
    "\n",
    "- How are the measurements made? What is the associated measurement uncertainty?\n",
    "- What is the resolution of the data?\n",
    "- Are their missing values? How should they be handled?"
   ]
  },
  {
   "cell_type": "markdown",
   "id": "272157b8-b0aa-402d-a708-d226b777e7b9",
   "metadata": {},
   "source": [
    "## Question 2:\n",
    "\n",
    "Construct the necessary python code to import and prepare for manipulation the following data set: <http://climate.nasa.gov/system/internal_resources/details/original/647_Global_Temperature_Data_File.txt>"
   ]
  },
  {
   "cell_type": "code",
   "execution_count": null,
   "id": "7873df03-7ed5-4584-875e-eabf44585437",
   "metadata": {},
   "outputs": [],
   "source": []
  },
  {
   "cell_type": "markdown",
   "id": "4d099fa6-715a-4060-b421-f5a864099f31",
   "metadata": {},
   "source": [
    "## Question 3:\n",
    "\n",
    "Plot the trend in global mean temperatures over time.  Describe what you see in the plot and how you interpret the patterns you observe."
   ]
  },
  {
   "cell_type": "code",
   "execution_count": null,
   "id": "40a6c4a8-6906-4fc6-ad9e-59fbaa0143bd",
   "metadata": {},
   "outputs": [],
   "source": []
  },
  {
   "cell_type": "markdown",
   "id": "86c4172f-aa23-42b2-9f0a-5e16ad8c58be",
   "metadata": {},
   "source": [
    "# Exercise II: Melting Ice Sheets?\n",
    "\n",
    "- Data description: <http://climate.nasa.gov/vital-signs/land-ice/>\n",
    "- Raw data file: <http://climate.nasa.gov/system/internal_resources/details/original/499_GRN_ANT_mass_changes.csv>\n",
    "\n",
    "## Question 1:\n",
    "\n",
    "- Describe the data set: what are the columns and units? Where do the numbers come from? \n",
    "- What is the uncertainty in measurment? Resolution of the data? Interpretation of missing values?"
   ]
  },
  {
   "cell_type": "code",
   "execution_count": null,
   "id": "f6c63893-c9e8-414c-acae-6f7273f92f20",
   "metadata": {},
   "outputs": [],
   "source": []
  },
  {
   "cell_type": "markdown",
   "id": "4d834348-fe0a-4a46-8268-315ed4f5fc30",
   "metadata": {},
   "source": [
    "## Question 2:\n",
    "\n",
    "Construct the necessary code to import this data set."
   ]
  },
  {
   "cell_type": "code",
   "execution_count": null,
   "id": "13733788-c895-473e-8835-9332a53d5f84",
   "metadata": {},
   "outputs": [],
   "source": []
  },
  {
   "cell_type": "markdown",
   "id": "c8d6b472-3a25-4615-aa52-55c07332eb07",
   "metadata": {},
   "source": [
    "## Question 3:\n",
    "\n",
    "Plot the data and describe the trends you observe."
   ]
  },
  {
   "cell_type": "code",
   "execution_count": null,
   "id": "a58da9a5-ee01-4630-8163-dba57845daac",
   "metadata": {},
   "outputs": [],
   "source": []
  },
  {
   "cell_type": "markdown",
   "id": "6993f0d2-6a3e-45b8-b534-b6e2ca45eeb9",
   "metadata": {},
   "source": [
    "# Exercise III: Rising Sea Levels?\n",
    "\n",
    "- Data description: <http://climate.nasa.gov/vital-signs/sea-level/>\n",
    "- Raw data file: <http://climate.nasa.gov/system/internal_resources/details/original/121_Global_Sea_Level_Data_File.txt>\n",
    "\n",
    "\n",
    "## Question 1:\n",
    "\n",
    "- Describe the data set: what are the columns and units? \n",
    "- Where do these data come from? \n",
    "- What is the uncertainty in measurment? Resolution of the data? Interpretation of missing values?"
   ]
  },
  {
   "cell_type": "code",
   "execution_count": null,
   "id": "8a1b5a0a-2ec7-4f1c-ab5c-0784007ff8ef",
   "metadata": {},
   "outputs": [],
   "source": []
  },
  {
   "cell_type": "markdown",
   "id": "84db7554-2d25-4b3f-bd12-b93d9f29c363",
   "metadata": {},
   "source": [
    "## Question 2:\n",
    "\n",
    "Construct the necessary R code to import this data set as a tidy `Table` object."
   ]
  },
  {
   "cell_type": "code",
   "execution_count": null,
   "id": "88f4827e-03e1-419a-89f0-ce6c37c98254",
   "metadata": {},
   "outputs": [],
   "source": []
  },
  {
   "cell_type": "markdown",
   "id": "b4546c03-54f0-4eb6-bb21-b21d33fd7033",
   "metadata": {},
   "source": [
    "## Question 3:\n",
    "\n",
    "Plot the data and describe the trends you observe."
   ]
  },
  {
   "cell_type": "code",
   "execution_count": null,
   "id": "69d6310e-1c33-44ac-b5b5-86dbc29469ee",
   "metadata": {},
   "outputs": [],
   "source": []
  },
  {
   "cell_type": "markdown",
   "id": "007d0632-d2c4-4e69-9d32-1d61b2f94c2b",
   "metadata": {},
   "source": [
    "# Exercise IV: Arctic Sea Ice?\n",
    "\n",
    "- <http://nsidc.org/data/G02135>\n",
    "- <https://noaadata.apps.nsidc.org/NOAA/G02135/north/monthly/data/>\n",
    "\n",
    "## Question 1:\n",
    "\n",
    "- Describe the data set: what are the columns and units? \n",
    "- Where do these data come from? \n",
    "- What is the uncertainty in measurement? Resolution of the data? Interpretation of missing values?"
   ]
  },
  {
   "cell_type": "markdown",
   "id": "f0eae2a4-0ef2-4ae4-9e20-a5f1b639815d",
   "metadata": {},
   "source": [
    "## Question 2:\n",
    "\n",
    "Construct the necessary code to import this data set"
   ]
  },
  {
   "cell_type": "code",
   "execution_count": null,
   "id": "c24e790a-1708-4be3-b8d8-75967ffaa2d5",
   "metadata": {},
   "outputs": [],
   "source": []
  },
  {
   "cell_type": "markdown",
   "id": "f9bba193-74ff-4309-9628-7d4f27065c34",
   "metadata": {},
   "source": [
    "## Question 3:\n",
    "\n",
    "Plot the data and describe the trends you observe."
   ]
  },
  {
   "cell_type": "code",
   "execution_count": null,
   "id": "8d610dce-5f61-4991-8681-cc4b4548f6e0",
   "metadata": {},
   "outputs": [],
   "source": []
  },
  {
   "cell_type": "markdown",
   "id": "8baebf62-4472-4fd0-9277-ae355ff60a21",
   "metadata": {},
   "source": [
    "# Exercise V: Longer term trends in CO2 Records\n",
    "\n",
    "\n",
    "The data we analyzed in the unit introduction included CO2 records dating back only as far as the measurements at the Manua Loa observatory.  To put these values into geological perspective requires looking back much farther than humans have been monitoring atmosopheric CO2 levels.  To do this, we need another approach.\n",
    "\n",
    "\n",
    "[Ice core data](http://cdiac.ornl.gov/trends/co2/ice_core_co2.html):\n",
    "\n",
    "Vostok Core, back to 400,000 yrs before present day \n",
    "\n",
    "- Description of data set: <http://cdiac.esd.ornl.gov/trends/co2/vostok.html>\n",
    "- Data source: <http://cdiac.ornl.gov/ftp/trends/co2/vostok.icecore.co2>\n",
    "\n",
    "## Questions / Tasks:\n",
    "\n",
    "- Describe the data set: what are the columns and units? Where do the numbers come from? \n",
    "- What is the uncertainty in measurment? Resolution of the data? Interpretation of missing values?\n",
    "- Read in and prepare data for analysis.\n",
    "- Reverse the ordering to create a chronological record.  \n",
    "- Plot data\n",
    "- Consider various smoothing windowed averages of the data. \n",
    "- Join this series to Mauna Loa data\n",
    "- Plot joined data\n",
    "- Describe your conclusions"
   ]
  },
  {
   "cell_type": "code",
   "execution_count": null,
   "id": "b30b72c0-3a90-4f3d-befa-305599504997",
   "metadata": {},
   "outputs": [],
   "source": []
  }
 ],
 "metadata": {
  "jupytext": {
   "formats": "md:myst,ipynb"
  },
  "kernelspec": {
   "display_name": "Python 3 (ipykernel)",
   "language": "python",
   "name": "python3"
  },
  "language_info": {
   "codemirror_mode": {
    "name": "ipython",
    "version": 3
   },
   "file_extension": ".py",
   "mimetype": "text/x-python",
   "name": "python",
   "nbconvert_exporter": "python",
   "pygments_lexer": "ipython3",
   "version": "3.11.9"
  },
  "vscode": {
   "interpreter": {
    "hash": "31f2aee4e71d21fbe5cf8b01ff0e069b9275f58929596ceb00d14d90e3e16cd6"
   }
  }
 },
 "nbformat": 4,
 "nbformat_minor": 5
}
