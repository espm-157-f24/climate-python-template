{
 "cells": [
  {
   "cell_type": "code",
   "execution_count": 2,
   "id": "d273676e-cfcc-44ac-9aca-a67b6ea570f7",
   "metadata": {},
   "outputs": [
    {
     "data": {
      "application/javascript": [
       "navigator.clipboard.writeText(\"085C-7885\");"
      ],
      "text/plain": [
       "<IPython.core.display.Javascript object>"
      ]
     },
     "metadata": {},
     "output_type": "display_data"
    },
    {
     "name": "stdout",
     "output_type": "stream",
     "text": [
      "The code 085C-7885 has been copied to your clipboard.\n",
      "You have 15 minutes to go to https://github.com/login/device and paste it there.\n",
      "\n",
      "Waiting.......\n"
     ]
    },
    {
     "data": {
      "text/html": [
       "<p style=\"background-color:lightgreen;\">Success! Authentication will expire in 8.0 hours.<br /></p>"
      ],
      "text/plain": [
       "<IPython.core.display.HTML object>"
      ]
     },
     "metadata": {},
     "output_type": "display_data"
    },
    {
     "name": "stdout",
     "output_type": "stream",
     "text": [
      "Visit https://github.com/apps/berkeley-datahub-git-access to manage list of repositories you can push to from this location\n",
      "Tip: Use https:// URLs to clone and push to repos, not ssh URLs!\n"
     ]
    }
   ],
   "source": [
    "import gh_scoped_creds\n",
    "%ghscopedcreds\n"
   ]
  }
 ],
 "metadata": {
  "kernelspec": {
   "display_name": "Python 3 (ipykernel)",
   "language": "python",
   "name": "python3"
  },
  "language_info": {
   "codemirror_mode": {
    "name": "ipython",
    "version": 3
   },
   "file_extension": ".py",
   "mimetype": "text/x-python",
   "name": "python",
   "nbconvert_exporter": "python",
   "pygments_lexer": "ipython3",
   "version": "3.11.9"
  }
 },
 "nbformat": 4,
 "nbformat_minor": 5
}
